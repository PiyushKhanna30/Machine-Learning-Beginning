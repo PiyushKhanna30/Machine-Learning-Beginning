{
 "cells": [
  {
   "cell_type": "code",
   "execution_count": 1,
   "metadata": {},
   "outputs": [
    {
     "name": "stdout",
     "output_type": "stream",
     "text": [
      "1.16.4\n"
     ]
    }
   ],
   "source": [
    "from matplotlib import pylab\n",
    "#prints the version of matplotlib\n",
    "print(pylab.__version__)"
   ]
  },
  {
   "cell_type": "code",
   "execution_count": 10,
   "metadata": {},
   "outputs": [
    {
     "name": "stdout",
     "output_type": "stream",
     "text": [
      "[ 0.          0.41666667  0.83333333  1.25        1.66666667  2.08333333\n",
      "  2.5         2.91666667  3.33333333  3.75        4.16666667  4.58333333\n",
      "  5.          5.41666667  5.83333333  6.25        6.66666667  7.08333333\n",
      "  7.5         7.91666667  8.33333333  8.75        9.16666667  9.58333333\n",
      " 10.        ]\n",
      "[  2.           2.17361111   2.69444444   3.5625       4.77777778\n",
      "   6.34027778   8.25        10.50694444  13.11111111  16.0625\n",
      "  19.36111111  23.00694444  27.          31.34027778  36.02777778\n",
      "  41.0625      46.44444444  52.17361111  58.25        64.67361111\n",
      "  71.44444444  78.5625      86.02777778  93.84027778 102.        ]\n",
      "[[  0.           0.41666667]\n",
      " [  0.83333333   1.25      ]\n",
      " [  1.66666667   2.08333333]\n",
      " [  2.5          2.91666667]\n",
      " [  3.33333333   3.75      ]\n",
      " [  4.16666667   4.58333333]\n",
      " [  5.           5.41666667]\n",
      " [  5.83333333   6.25      ]\n",
      " [  6.66666667   7.08333333]\n",
      " [  7.5          7.91666667]\n",
      " [  8.33333333   8.75      ]\n",
      " [  9.16666667   9.58333333]\n",
      " [ 10.           2.        ]\n",
      " [  2.17361111   2.69444444]\n",
      " [  3.5625       4.77777778]\n",
      " [  6.34027778   8.25      ]\n",
      " [ 10.50694444  13.11111111]\n",
      " [ 16.0625      19.36111111]\n",
      " [ 23.00694444  27.        ]\n",
      " [ 31.34027778  36.02777778]\n",
      " [ 41.0625      46.44444444]\n",
      " [ 52.17361111  58.25      ]\n",
      " [ 64.67361111  71.44444444]\n",
      " [ 78.5625      86.02777778]\n",
      " [ 93.84027778 102.        ]]\n"
     ]
    }
   ],
   "source": [
    "import numpy as np\n",
    "#creates array from 0 to 10 with 25 numbers\n",
    "x=np.linspace(0,10,25)\n",
    "y=x*x+2\n",
    "\n",
    "print(x)\n",
    "print(y)\n",
    "print(np.array([x,y]).reshape(25,2))"
   ]
  },
  {
   "cell_type": "code",
   "execution_count": 12,
   "metadata": {},
   "outputs": [
    {
     "data": {
      "text/plain": [
       "[<matplotlib.lines.Line2D at 0x474f3f0>]"
      ]
     },
     "execution_count": 12,
     "metadata": {},
     "output_type": "execute_result"
    },
    {
     "data": {
      "image/png": "[encoded data removed]",
      "text/plain": [
       "<Figure size 432x288 with 1 Axes>"
      ]
     },
     "metadata": {
      "needs_background": "light"
     },
     "output_type": "display_data"
    }
   ],
   "source": [
    "#plotting using x,y arrays with color ='b' ie blue  \n",
    "pylab.plot(x,y,'b')\n",
    "pylab.plot(y,x,'r')"
   ]
  },
  {
   "cell_type": "code",
   "execution_count": 28,
   "metadata": {},
   "outputs": [
    {
     "data": {
      "text/plain": [
       "[<matplotlib.lines.Line2D at 0xc4ec690>]"
      ]
     },
     "execution_count": 28,
     "metadata": {},
     "output_type": "execute_result"
    },
    {
     "data": {
      "image/png": "[encoded data removed]",
      "text/plain": [
       "<Figure size 432x288 with 2 Axes>"
      ]
     },
     "metadata": {
      "needs_background": "light"
     },
     "output_type": "display_data"
    }
   ],
   "source": [
    "#pylab.subplot(no.of rows,no. of columns, index)\n",
    "pylab.subplot(1,2,1)\n",
    "#pylab.plot(first data array,second data array,'color design')  color=b,r,g,y etc.   design - , -- : . etc\n",
    "pylab.plot(x,y,'b--')\n",
    "pylab.subplot(1,2,2)\n",
    "pylab.plot(y,x,'r:')"
   ]
  },
  {
   "cell_type": "code",
   "execution_count": null,
   "metadata": {},
   "outputs": [],
   "source": []
  }
 ],
 "metadata": {
  "kernelspec": {
   "display_name": "Python 3",
   "language": "python",
   "name": "python3"
  },
  "language_info": {
   "codemirror_mode": {
    "name": "ipython",
    "version": 3
   },
   "file_extension": ".py",
   "mimetype": "text/x-python",
   "name": "python",
   "nbconvert_exporter": "python",
   "pygments_lexer": "ipython3",
   "version": "3.6.4"
  }
 },
 "nbformat": 4,
 "nbformat_minor": 4
}
